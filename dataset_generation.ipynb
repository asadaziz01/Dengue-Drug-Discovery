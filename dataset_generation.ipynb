{
 "cells": [
  {
   "cell_type": "code",
   "execution_count": 2,
   "id": "d34880eb-1969-4530-a72b-12f9dff40caf",
   "metadata": {},
   "outputs": [
    {
     "name": "stdout",
     "output_type": "stream",
     "text": [
      "Found 36 unique original SMILES.\n",
      "Generated 2000 unique synthetic SMILES.\n",
      "Synthetic SMILES saved to 'synthetic_dengue_smiles1.csv'\n"
     ]
    }
   ],
   "source": [
    "import pandas as pd\n",
    "from rdkit import Chem\n",
    "\n",
    "# Load the original dataset\n",
    "df = pd.read_csv('drug_dataset.csv')\n",
    "\n",
    "# Determine the SMILES column.\n",
    "# The code checks for common column names ('smiles' or 'SMILES').\n",
    "smiles_col = None\n",
    "for col in ['smiles', 'SMILES']:\n",
    "    if col in df.columns:\n",
    "        smiles_col = col\n",
    "        break\n",
    "\n",
    "if smiles_col is None:\n",
    "    raise ValueError(\"No SMILES column found in the data. Expected a column named 'smiles' or 'SMILES'.\")\n",
    "\n",
    "# Get unique SMILES from the dataset (ignoring missing values)\n",
    "original_smiles = df[smiles_col].dropna().unique()\n",
    "print(f\"Found {len(original_smiles)} unique original SMILES.\")\n",
    "\n",
    "# Set to hold the synthetic (randomized) SMILES\n",
    "synthetic_smiles_set = set()\n",
    "\n",
    "# Generate synthetic SMILES until we have at least 2000 unique ones.\n",
    "# For each original SMILES, we generate one randomized version per iteration.\n",
    "while len(synthetic_smiles_set) < 2000:\n",
    "    for s in original_smiles:\n",
    "        mol = Chem.MolFromSmiles(s)\n",
    "        if mol is not None:\n",
    "            # Generate a randomized SMILES (non-canonical)\n",
    "            new_smile = Chem.MolToSmiles(mol, doRandom=True)\n",
    "            synthetic_smiles_set.add(new_smile)\n",
    "        # Break early if we've reached our target\n",
    "        if len(synthetic_smiles_set) >= 2000:\n",
    "            break\n",
    "\n",
    "print(f\"Generated {len(synthetic_smiles_set)} unique synthetic SMILES.\")\n",
    "\n",
    "# Convert the set to a DataFrame and save to CSV\n",
    "synthetic_smiles_list = list(synthetic_smiles_set)\n",
    "synthetic_df = pd.DataFrame({smiles_col: synthetic_smiles_list})\n",
    "synthetic_df.to_csv('new_gen_smiles1.csv', index=False)\n",
    "\n",
    "print(\"Synthetic SMILES saved to 'synthetic_dengue_smiles1.csv'\")\n"
   ]
  },
  {
   "cell_type": "code",
   "execution_count": null,
   "id": "ae2f90c9-67ce-46b9-a362-8593888bece1",
   "metadata": {},
   "outputs": [],
   "source": []
  }
 ],
 "metadata": {
  "kernelspec": {
   "display_name": "Python 3 (ipykernel)",
   "language": "python",
   "name": "python3"
  },
  "language_info": {
   "codemirror_mode": {
    "name": "ipython",
    "version": 3
   },
   "file_extension": ".py",
   "mimetype": "text/x-python",
   "name": "python",
   "nbconvert_exporter": "python",
   "pygments_lexer": "ipython3",
   "version": "3.11.1"
  }
 },
 "nbformat": 4,
 "nbformat_minor": 5
}
